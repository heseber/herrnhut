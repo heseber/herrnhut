{
 "cells": [
  {
   "cell_type": "code",
   "execution_count": null,
   "metadata": {},
   "outputs": [],
   "source": [
    "#hide\n",
    "from herrnhut.core import *"
   ]
  },
  {
   "cell_type": "markdown",
   "metadata": {},
   "source": [
    "# herrnhut: 110-ray Herrnhut Star\n",
    "\n",
    "> This project generates a 3D model of a 110-ray Herrnhut Star and provides instructions for building one yourself."
   ]
  },
  {
   "cell_type": "markdown",
   "metadata": {},
   "source": [
    "The classical Herrnhut Star has 28 rays (or 27 if the top ray is replaced by a cable for the light bulb). However, there are also larger versions with more rays, e.g. 50, 62 or 110 rays. The goal of this project is to construct and visualize a 3D model of a 110-ray star and to create a construction manual for building one yourself."
   ]
  },
  {
   "cell_type": "markdown",
   "metadata": {},
   "source": [
    "## Install"
   ]
  },
  {
   "cell_type": "markdown",
   "metadata": {},
   "source": [
    "`pip install herrnhut`"
   ]
  }
 ],
 "metadata": {
  "kernelspec": {
   "display_name": "Python 3",
   "language": "python",
   "name": "python3"
  }
 },
 "nbformat": 4,
 "nbformat_minor": 4
}
